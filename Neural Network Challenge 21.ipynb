{
 "cells": [
  {
   "cell_type": "code",
   "execution_count": 20,
   "metadata": {},
   "outputs": [
    {
     "data": {
      "text/html": [
       "<div>\n",
       "<style scoped>\n",
       "    .dataframe tbody tr th:only-of-type {\n",
       "        vertical-align: middle;\n",
       "    }\n",
       "\n",
       "    .dataframe tbody tr th {\n",
       "        vertical-align: top;\n",
       "    }\n",
       "\n",
       "    .dataframe thead th {\n",
       "        text-align: right;\n",
       "    }\n",
       "</style>\n",
       "<table border=\"1\" class=\"dataframe\">\n",
       "  <thead>\n",
       "    <tr style=\"text-align: right;\">\n",
       "      <th></th>\n",
       "      <th>EIN</th>\n",
       "      <th>NAME</th>\n",
       "      <th>APPLICATION_TYPE</th>\n",
       "      <th>AFFILIATION</th>\n",
       "      <th>CLASSIFICATION</th>\n",
       "      <th>USE_CASE</th>\n",
       "      <th>ORGANIZATION</th>\n",
       "      <th>STATUS</th>\n",
       "      <th>INCOME_AMT</th>\n",
       "      <th>SPECIAL_CONSIDERATIONS</th>\n",
       "      <th>ASK_AMT</th>\n",
       "      <th>IS_SUCCESSFUL</th>\n",
       "    </tr>\n",
       "  </thead>\n",
       "  <tbody>\n",
       "    <tr>\n",
       "      <th>0</th>\n",
       "      <td>10520599</td>\n",
       "      <td>BLUE KNIGHTS MOTORCYCLE CLUB</td>\n",
       "      <td>T10</td>\n",
       "      <td>Independent</td>\n",
       "      <td>C1000</td>\n",
       "      <td>ProductDev</td>\n",
       "      <td>Association</td>\n",
       "      <td>1</td>\n",
       "      <td>0</td>\n",
       "      <td>N</td>\n",
       "      <td>5000</td>\n",
       "      <td>1</td>\n",
       "    </tr>\n",
       "    <tr>\n",
       "      <th>1</th>\n",
       "      <td>10531628</td>\n",
       "      <td>AMERICAN CHESAPEAKE CLUB CHARITABLE TR</td>\n",
       "      <td>T3</td>\n",
       "      <td>Independent</td>\n",
       "      <td>C2000</td>\n",
       "      <td>Preservation</td>\n",
       "      <td>Co-operative</td>\n",
       "      <td>1</td>\n",
       "      <td>1-9999</td>\n",
       "      <td>N</td>\n",
       "      <td>108590</td>\n",
       "      <td>1</td>\n",
       "    </tr>\n",
       "    <tr>\n",
       "      <th>2</th>\n",
       "      <td>10547893</td>\n",
       "      <td>ST CLOUD PROFESSIONAL FIREFIGHTERS</td>\n",
       "      <td>T5</td>\n",
       "      <td>CompanySponsored</td>\n",
       "      <td>C3000</td>\n",
       "      <td>ProductDev</td>\n",
       "      <td>Association</td>\n",
       "      <td>1</td>\n",
       "      <td>0</td>\n",
       "      <td>N</td>\n",
       "      <td>5000</td>\n",
       "      <td>0</td>\n",
       "    </tr>\n",
       "    <tr>\n",
       "      <th>3</th>\n",
       "      <td>10553066</td>\n",
       "      <td>SOUTHSIDE ATHLETIC ASSOCIATION</td>\n",
       "      <td>T3</td>\n",
       "      <td>CompanySponsored</td>\n",
       "      <td>C2000</td>\n",
       "      <td>Preservation</td>\n",
       "      <td>Trust</td>\n",
       "      <td>1</td>\n",
       "      <td>10000-24999</td>\n",
       "      <td>N</td>\n",
       "      <td>6692</td>\n",
       "      <td>1</td>\n",
       "    </tr>\n",
       "    <tr>\n",
       "      <th>4</th>\n",
       "      <td>10556103</td>\n",
       "      <td>GENETIC RESEARCH INSTITUTE OF THE DESERT</td>\n",
       "      <td>T3</td>\n",
       "      <td>Independent</td>\n",
       "      <td>C1000</td>\n",
       "      <td>Heathcare</td>\n",
       "      <td>Trust</td>\n",
       "      <td>1</td>\n",
       "      <td>100000-499999</td>\n",
       "      <td>N</td>\n",
       "      <td>142590</td>\n",
       "      <td>1</td>\n",
       "    </tr>\n",
       "  </tbody>\n",
       "</table>\n",
       "</div>"
      ],
      "text/plain": [
       "        EIN                                      NAME APPLICATION_TYPE  \\\n",
       "0  10520599              BLUE KNIGHTS MOTORCYCLE CLUB              T10   \n",
       "1  10531628    AMERICAN CHESAPEAKE CLUB CHARITABLE TR               T3   \n",
       "2  10547893        ST CLOUD PROFESSIONAL FIREFIGHTERS               T5   \n",
       "3  10553066            SOUTHSIDE ATHLETIC ASSOCIATION               T3   \n",
       "4  10556103  GENETIC RESEARCH INSTITUTE OF THE DESERT               T3   \n",
       "\n",
       "        AFFILIATION CLASSIFICATION      USE_CASE  ORGANIZATION  STATUS  \\\n",
       "0       Independent          C1000    ProductDev   Association       1   \n",
       "1       Independent          C2000  Preservation  Co-operative       1   \n",
       "2  CompanySponsored          C3000    ProductDev   Association       1   \n",
       "3  CompanySponsored          C2000  Preservation         Trust       1   \n",
       "4       Independent          C1000     Heathcare         Trust       1   \n",
       "\n",
       "      INCOME_AMT SPECIAL_CONSIDERATIONS  ASK_AMT  IS_SUCCESSFUL  \n",
       "0              0                      N     5000              1  \n",
       "1         1-9999                      N   108590              1  \n",
       "2              0                      N     5000              0  \n",
       "3    10000-24999                      N     6692              1  \n",
       "4  100000-499999                      N   142590              1  "
      ]
     },
     "execution_count": 20,
     "metadata": {},
     "output_type": "execute_result"
    }
   ],
   "source": [
    "# Import dependencies\n",
    "from sklearn.model_selection import train_test_split\n",
    "from sklearn.preprocessing import StandardScaler\n",
    "import pandas as pd\n",
    "import tensorflow as tf\n",
    "\n",
    "#  Read the charity_data.csv.\n",
    "import pandas as pd \n",
    "application_df = pd.read_csv(\"https://static.bc-edx.com/data/dl-1-2/m21/lms/starter/charity_data.csv\")\n",
    "application_df.head()"
   ]
  },
  {
   "cell_type": "code",
   "execution_count": null,
   "metadata": {},
   "outputs": [],
   "source": [
    "# Drop columns that don't belong in the model\n",
    "application_df = application_df.drop([\"EIN\",\"NAME\"],axis=1)"
   ]
  },
  {
   "cell_type": "code",
   "execution_count": 21,
   "metadata": {},
   "outputs": [
    {
     "data": {
      "text/plain": [
       "EIN                       34299\n",
       "NAME                      19568\n",
       "APPLICATION_TYPE             17\n",
       "AFFILIATION                   6\n",
       "CLASSIFICATION               71\n",
       "USE_CASE                      5\n",
       "ORGANIZATION                  4\n",
       "STATUS                        2\n",
       "INCOME_AMT                    9\n",
       "SPECIAL_CONSIDERATIONS        2\n",
       "ASK_AMT                    8747\n",
       "IS_SUCCESSFUL                 2\n",
       "dtype: int64"
      ]
     },
     "execution_count": 21,
     "metadata": {},
     "output_type": "execute_result"
    }
   ],
   "source": [
    "# Determine unique values in each column.\n",
    "application_df.nunique()"
   ]
  },
  {
   "cell_type": "code",
   "execution_count": 22,
   "metadata": {},
   "outputs": [
    {
     "data": {
      "text/plain": [
       "APPLICATION_TYPE\n",
       "T3     27037\n",
       "T4      1542\n",
       "T6      1216\n",
       "T5      1173\n",
       "T19     1065\n",
       "T8       737\n",
       "T7       725\n",
       "T10      528\n",
       "T9       156\n",
       "T13       66\n",
       "T12       27\n",
       "T2        16\n",
       "T25        3\n",
       "T14        3\n",
       "T29        2\n",
       "T15        2\n",
       "T17        1\n",
       "Name: count, dtype: int64"
      ]
     },
     "execution_count": 22,
     "metadata": {},
     "output_type": "execute_result"
    }
   ],
   "source": [
    "# Bin APPLICATION_TYPE value counts \n",
    "application_counts = application_df['APPLICATION_TYPE'].value_counts()\n",
    "application_counts"
   ]
  },
  {
   "cell_type": "code",
   "execution_count": 23,
   "metadata": {},
   "outputs": [
    {
     "data": {
      "text/plain": [
       "APPLICATION_TYPE\n",
       "T3       27037\n",
       "T4        1542\n",
       "T6        1216\n",
       "T5        1173\n",
       "T19       1065\n",
       "T8         737\n",
       "T7         725\n",
       "T10        528\n",
       "Other      276\n",
       "Name: count, dtype: int64"
      ]
     },
     "execution_count": 23,
     "metadata": {},
     "output_type": "execute_result"
    }
   ],
   "source": [
    "application_types_to_replace = list(application_counts[application_counts < 500].index)\n",
    "\n",
    "# Replace in dataframe\n",
    "for app in application_types_to_replace:\n",
    "    application_df['APPLICATION_TYPE'] = application_df['APPLICATION_TYPE'].replace(app,\"Other\")\n",
    "\n",
    "# Check to make sure binning was successful\n",
    "application_df['APPLICATION_TYPE'].value_counts()"
   ]
  },
  {
   "cell_type": "code",
   "execution_count": 24,
   "metadata": {},
   "outputs": [
    {
     "data": {
      "text/plain": [
       "CLASSIFICATION\n",
       "C1000    17326\n",
       "C2000     6074\n",
       "C1200     4837\n",
       "C3000     1918\n",
       "C2100     1883\n",
       "         ...  \n",
       "C4120        1\n",
       "C8210        1\n",
       "C2561        1\n",
       "C4500        1\n",
       "C2150        1\n",
       "Name: count, Length: 71, dtype: int64"
      ]
     },
     "execution_count": 24,
     "metadata": {},
     "output_type": "execute_result"
    }
   ],
   "source": [
    "# Bin CLASSIFICATION value counts \n",
    "class_counts = application_df.CLASSIFICATION.value_counts()\n",
    "class_counts"
   ]
  },
  {
   "cell_type": "code",
   "execution_count": 25,
   "metadata": {},
   "outputs": [
    {
     "data": {
      "text/plain": [
       "CLASSIFICATION\n",
       "C1000    17326\n",
       "C2000     6074\n",
       "C1200     4837\n",
       "C3000     1918\n",
       "C2100     1883\n",
       "C7000      777\n",
       "C1700      287\n",
       "C4000      194\n",
       "C5000      116\n",
       "C1270      114\n",
       "C2700      104\n",
       "C2800       95\n",
       "C7100       75\n",
       "C1300       58\n",
       "C1280       50\n",
       "C1230       36\n",
       "C1400       34\n",
       "C7200       32\n",
       "C2300       32\n",
       "C1240       30\n",
       "C8000       20\n",
       "C7120       18\n",
       "C1500       16\n",
       "C1800       15\n",
       "C6000       15\n",
       "C1250       14\n",
       "C8200       11\n",
       "C1238       10\n",
       "C1278       10\n",
       "C1235        9\n",
       "C1237        9\n",
       "C7210        7\n",
       "C2400        6\n",
       "C1720        6\n",
       "C4100        6\n",
       "C1257        5\n",
       "C1600        5\n",
       "C1260        3\n",
       "C2710        3\n",
       "C0           3\n",
       "C3200        2\n",
       "C1234        2\n",
       "C1246        2\n",
       "C1267        2\n",
       "C1256        2\n",
       "Name: count, dtype: int64"
      ]
     },
     "execution_count": 25,
     "metadata": {},
     "output_type": "execute_result"
    }
   ],
   "source": [
    "class_counts[class_counts > 1]"
   ]
  },
  {
   "cell_type": "code",
   "execution_count": 26,
   "metadata": {},
   "outputs": [
    {
     "data": {
      "text/plain": [
       "CLASSIFICATION\n",
       "C1000    17326\n",
       "C2000     6074\n",
       "C1200     4837\n",
       "C3000     1918\n",
       "C2100     1883\n",
       "C7000      777\n",
       "C1700      287\n",
       "C4000      194\n",
       "C5000      116\n",
       "C1270      114\n",
       "C2700      104\n",
       "C2800       95\n",
       "C7100       75\n",
       "C1300       58\n",
       "C1280       50\n",
       "C1230       36\n",
       "C1400       34\n",
       "C7200       32\n",
       "C2300       32\n",
       "C1240       30\n",
       "C8000       20\n",
       "C7120       18\n",
       "C1500       16\n",
       "C1800       15\n",
       "C6000       15\n",
       "C1250       14\n",
       "C8200       11\n",
       "Name: count, dtype: int64"
      ]
     },
     "execution_count": 26,
     "metadata": {},
     "output_type": "execute_result"
    }
   ],
   "source": [
    "class_counts[class_counts > 10]"
   ]
  },
  {
   "cell_type": "code",
   "execution_count": 27,
   "metadata": {},
   "outputs": [
    {
     "data": {
      "text/plain": [
       "CLASSIFICATION\n",
       "C1000    17326\n",
       "C2000     6074\n",
       "C1200     4837\n",
       "Other     2261\n",
       "C3000     1918\n",
       "C2100     1883\n",
       "Name: count, dtype: int64"
      ]
     },
     "execution_count": 27,
     "metadata": {},
     "output_type": "execute_result"
    }
   ],
   "source": [
    "# Determine which values to replace if counts are less than 1000\n",
    "classifications_to_replace = list(class_counts[class_counts < 1000].index)\n",
    "\n",
    "# Replace in dataframe\n",
    "for cls in classifications_to_replace:\n",
    "    application_df['CLASSIFICATION'] = application_df['CLASSIFICATION'].replace(cls,\"Other\")\n",
    "    \n",
    "# Check to make sure binning was successful\n",
    "application_df['CLASSIFICATION'].value_counts()"
   ]
  },
  {
   "cell_type": "code",
   "execution_count": 28,
   "metadata": {},
   "outputs": [],
   "source": [
    "application_with_dummies_df = pd.get_dummies(application_df)"
   ]
  },
  {
   "cell_type": "code",
   "execution_count": 29,
   "metadata": {},
   "outputs": [],
   "source": [
    "# Split our preprocessed data into our features and target arrays\n",
    "X = application_with_dummies_df.drop([\"IS_SUCCESSFUL\"], axis='columns').values\n",
    "y = application_with_dummies_df[\"IS_SUCCESSFUL\"].values\n",
    "\n",
    "# Split the preprocessed data into a training and testing dataset\n",
    "X_train, X_test, y_train, y_test = train_test_split(X, y, random_state=78)"
   ]
  },
  {
   "cell_type": "code",
   "execution_count": 30,
   "metadata": {},
   "outputs": [],
   "source": [
    "# Create a StandardScaler instances\n",
    "scaler = StandardScaler()\n",
    "\n",
    "# Fit the StandardScaler\n",
    "X_scaler = scaler.fit(X_train)\n",
    "\n",
    "# Scale the data\n",
    "X_train_scaled = X_scaler.transform(X_train)\n",
    "X_test_scaled = X_scaler.transform(X_test)"
   ]
  },
  {
   "cell_type": "code",
   "execution_count": 31,
   "metadata": {},
   "outputs": [
    {
     "name": "stdout",
     "output_type": "stream",
     "text": [
      "Model: \"sequential_1\"\n",
      "_________________________________________________________________\n",
      " Layer (type)                Output Shape              Param #   \n",
      "=================================================================\n",
      " dense_3 (Dense)             (None, 80)                1569040   \n",
      "                                                                 \n",
      " dense_4 (Dense)             (None, 30)                2430      \n",
      "                                                                 \n",
      " dense_5 (Dense)             (None, 1)                 31        \n",
      "                                                                 \n",
      "=================================================================\n",
      "Total params: 1571501 (5.99 MB)\n",
      "Trainable params: 1571501 (5.99 MB)\n",
      "Non-trainable params: 0 (0.00 Byte)\n",
      "_________________________________________________________________\n"
     ]
    }
   ],
   "source": [
    "# Define the model - deep neural net\n",
    "number_input_features = len(X_train[0])\n",
    "hidden_nodes_layer1 =  80\n",
    "hidden_nodes_layer2 = 30\n",
    "\n",
    "nn = tf.keras.models.Sequential()\n",
    "\n",
    "# First hidden layer\n",
    "nn.add(\n",
    "    tf.keras.layers.Dense(units=hidden_nodes_layer1, input_dim=number_input_features, activation=\"relu\")\n",
    ")\n",
    "\n",
    "# Second hidden layer\n",
    "nn.add(tf.keras.layers.Dense(units=hidden_nodes_layer2, activation=\"relu\"))\n",
    "\n",
    "# Output layer\n",
    "nn.add(tf.keras.layers.Dense(units=1, activation=\"sigmoid\"))\n",
    "\n",
    "# Check the structure of the model\n",
    "nn.summary()"
   ]
  },
  {
   "cell_type": "code",
   "execution_count": 32,
   "metadata": {},
   "outputs": [],
   "source": [
    "# Compile the model\n",
    "nn.compile(loss=\"binary_crossentropy\", optimizer=\"adam\", metrics=[\"accuracy\"])"
   ]
  },
  {
   "cell_type": "code",
   "execution_count": 33,
   "metadata": {},
   "outputs": [
    {
     "name": "stdout",
     "output_type": "stream",
     "text": [
      "Epoch 1/100\n",
      "804/804 [==============================] - 17s 19ms/step - loss: 0.4957 - accuracy: 0.7553\n",
      "Epoch 2/100\n",
      "804/804 [==============================] - 16s 19ms/step - loss: 0.1330 - accuracy: 0.9524\n",
      "Epoch 3/100\n",
      "804/804 [==============================] - 17s 21ms/step - loss: 0.0978 - accuracy: 0.9606\n",
      "Epoch 4/100\n",
      "804/804 [==============================] - 22s 28ms/step - loss: 0.0945 - accuracy: 0.9617\n",
      "Epoch 5/100\n",
      "804/804 [==============================] - 21s 26ms/step - loss: 0.0925 - accuracy: 0.9619\n",
      "Epoch 6/100\n",
      "804/804 [==============================] - 22s 27ms/step - loss: 0.0921 - accuracy: 0.9612\n",
      "Epoch 7/100\n",
      "804/804 [==============================] - 19s 24ms/step - loss: 0.0912 - accuracy: 0.9625\n",
      "Epoch 8/100\n",
      "804/804 [==============================] - 18s 22ms/step - loss: 0.0900 - accuracy: 0.9624\n",
      "Epoch 9/100\n",
      "804/804 [==============================] - 19s 24ms/step - loss: 0.0894 - accuracy: 0.9634\n",
      "Epoch 10/100\n",
      "804/804 [==============================] - 23s 29ms/step - loss: 0.0888 - accuracy: 0.9631\n",
      "Epoch 11/100\n",
      "804/804 [==============================] - 24s 30ms/step - loss: 0.0881 - accuracy: 0.9635\n",
      "Epoch 12/100\n",
      "804/804 [==============================] - 26s 33ms/step - loss: 0.0878 - accuracy: 0.9637\n",
      "Epoch 13/100\n",
      "804/804 [==============================] - 28s 35ms/step - loss: 0.0871 - accuracy: 0.9642\n",
      "Epoch 14/100\n",
      "804/804 [==============================] - 28s 35ms/step - loss: 0.0865 - accuracy: 0.9644\n",
      "Epoch 15/100\n",
      "804/804 [==============================] - 25s 32ms/step - loss: 0.0859 - accuracy: 0.9643\n",
      "Epoch 16/100\n",
      "804/804 [==============================] - 26s 32ms/step - loss: 0.0852 - accuracy: 0.9645\n",
      "Epoch 17/100\n",
      "804/804 [==============================] - 25s 32ms/step - loss: 0.0850 - accuracy: 0.9648\n",
      "Epoch 18/100\n",
      "804/804 [==============================] - 23s 29ms/step - loss: 0.0842 - accuracy: 0.9661\n",
      "Epoch 19/100\n",
      "804/804 [==============================] - 24s 29ms/step - loss: 0.0840 - accuracy: 0.9657\n",
      "Epoch 20/100\n",
      "804/804 [==============================] - 24s 29ms/step - loss: 0.0832 - accuracy: 0.9662\n",
      "Epoch 21/100\n",
      "804/804 [==============================] - 22s 27ms/step - loss: 0.0825 - accuracy: 0.9667\n",
      "Epoch 22/100\n",
      "804/804 [==============================] - 25s 31ms/step - loss: 0.0819 - accuracy: 0.9662\n",
      "Epoch 23/100\n",
      "804/804 [==============================] - 19s 23ms/step - loss: 0.0815 - accuracy: 0.9672\n",
      "Epoch 24/100\n",
      "804/804 [==============================] - 18s 22ms/step - loss: 0.0812 - accuracy: 0.9671\n",
      "Epoch 25/100\n",
      "804/804 [==============================] - 20s 25ms/step - loss: 0.0801 - accuracy: 0.9676\n",
      "Epoch 26/100\n",
      "804/804 [==============================] - 23s 28ms/step - loss: 0.0800 - accuracy: 0.9673\n",
      "Epoch 27/100\n",
      "804/804 [==============================] - 19s 24ms/step - loss: 0.0795 - accuracy: 0.9675\n",
      "Epoch 28/100\n",
      "804/804 [==============================] - 19s 24ms/step - loss: 0.0793 - accuracy: 0.9684\n",
      "Epoch 29/100\n",
      "804/804 [==============================] - 16s 20ms/step - loss: 0.0787 - accuracy: 0.9685\n",
      "Epoch 30/100\n",
      "804/804 [==============================] - 17s 21ms/step - loss: 0.0785 - accuracy: 0.9692\n",
      "Epoch 31/100\n",
      "804/804 [==============================] - 18s 22ms/step - loss: 0.0781 - accuracy: 0.9687\n",
      "Epoch 32/100\n",
      "804/804 [==============================] - 18s 23ms/step - loss: 0.0777 - accuracy: 0.9685\n",
      "Epoch 33/100\n",
      "804/804 [==============================] - 19s 23ms/step - loss: 0.0774 - accuracy: 0.9686\n",
      "Epoch 34/100\n",
      "804/804 [==============================] - 19s 24ms/step - loss: 0.0770 - accuracy: 0.9694\n",
      "Epoch 35/100\n",
      "804/804 [==============================] - 17s 22ms/step - loss: 0.0766 - accuracy: 0.9693\n",
      "Epoch 36/100\n",
      "804/804 [==============================] - 18s 22ms/step - loss: 0.0770 - accuracy: 0.9695\n",
      "Epoch 37/100\n",
      "804/804 [==============================] - 23s 28ms/step - loss: 0.0762 - accuracy: 0.9687\n",
      "Epoch 38/100\n",
      "804/804 [==============================] - 22s 28ms/step - loss: 0.0759 - accuracy: 0.9689\n",
      "Epoch 39/100\n",
      "804/804 [==============================] - 21s 26ms/step - loss: 0.0761 - accuracy: 0.9691\n",
      "Epoch 40/100\n",
      "804/804 [==============================] - 21s 26ms/step - loss: 0.0756 - accuracy: 0.9690\n",
      "Epoch 41/100\n",
      "804/804 [==============================] - 21s 26ms/step - loss: 0.0755 - accuracy: 0.9703\n",
      "Epoch 42/100\n",
      "804/804 [==============================] - 21s 26ms/step - loss: 0.0752 - accuracy: 0.9693\n",
      "Epoch 43/100\n",
      "804/804 [==============================] - 22s 28ms/step - loss: 0.0747 - accuracy: 0.9701\n",
      "Epoch 44/100\n",
      "804/804 [==============================] - 24s 30ms/step - loss: 0.0744 - accuracy: 0.9699\n",
      "Epoch 45/100\n",
      "804/804 [==============================] - 24s 30ms/step - loss: 0.0743 - accuracy: 0.9709\n",
      "Epoch 46/100\n",
      "804/804 [==============================] - 23s 29ms/step - loss: 0.0748 - accuracy: 0.9700\n",
      "Epoch 47/100\n",
      "804/804 [==============================] - 21s 26ms/step - loss: 0.0743 - accuracy: 0.9700\n",
      "Epoch 48/100\n",
      "804/804 [==============================] - 24s 30ms/step - loss: 0.0741 - accuracy: 0.9702\n",
      "Epoch 49/100\n",
      "804/804 [==============================] - 23s 29ms/step - loss: 0.0741 - accuracy: 0.9702\n",
      "Epoch 50/100\n",
      "804/804 [==============================] - 25s 32ms/step - loss: 0.0740 - accuracy: 0.9703\n",
      "Epoch 51/100\n",
      "804/804 [==============================] - 29s 36ms/step - loss: 0.0733 - accuracy: 0.9702\n",
      "Epoch 52/100\n",
      "804/804 [==============================] - 22s 28ms/step - loss: 0.0736 - accuracy: 0.9706\n",
      "Epoch 53/100\n",
      "804/804 [==============================] - 24s 30ms/step - loss: 0.0733 - accuracy: 0.9710\n",
      "Epoch 54/100\n",
      "804/804 [==============================] - 25s 31ms/step - loss: 0.0728 - accuracy: 0.9707\n",
      "Epoch 55/100\n",
      "804/804 [==============================] - 23s 29ms/step - loss: 0.0728 - accuracy: 0.9710\n",
      "Epoch 56/100\n",
      "804/804 [==============================] - 24s 30ms/step - loss: 0.0727 - accuracy: 0.9704\n",
      "Epoch 57/100\n",
      "804/804 [==============================] - 22s 28ms/step - loss: 0.0727 - accuracy: 0.9708\n",
      "Epoch 58/100\n",
      "804/804 [==============================] - 25s 31ms/step - loss: 0.0724 - accuracy: 0.9708\n",
      "Epoch 59/100\n",
      "804/804 [==============================] - 24s 30ms/step - loss: 0.0723 - accuracy: 0.9709\n",
      "Epoch 60/100\n",
      "804/804 [==============================] - 23s 29ms/step - loss: 0.0728 - accuracy: 0.9710\n",
      "Epoch 61/100\n",
      "804/804 [==============================] - 22s 27ms/step - loss: 0.0721 - accuracy: 0.9708\n",
      "Epoch 62/100\n",
      "804/804 [==============================] - 18s 22ms/step - loss: 0.0719 - accuracy: 0.9712\n",
      "Epoch 63/100\n",
      "804/804 [==============================] - 18s 22ms/step - loss: 0.0718 - accuracy: 0.9708\n",
      "Epoch 64/100\n",
      "804/804 [==============================] - 19s 23ms/step - loss: 0.0717 - accuracy: 0.9718\n",
      "Epoch 65/100\n",
      "804/804 [==============================] - 18s 23ms/step - loss: 0.0715 - accuracy: 0.9711\n",
      "Epoch 66/100\n",
      "804/804 [==============================] - 21s 26ms/step - loss: 0.0713 - accuracy: 0.9712\n",
      "Epoch 67/100\n",
      "804/804 [==============================] - 20s 25ms/step - loss: 0.0710 - accuracy: 0.9713\n",
      "Epoch 68/100\n",
      "804/804 [==============================] - 19s 23ms/step - loss: 0.0712 - accuracy: 0.9717\n",
      "Epoch 69/100\n",
      "804/804 [==============================] - 17s 22ms/step - loss: 0.0710 - accuracy: 0.9716\n",
      "Epoch 70/100\n",
      "804/804 [==============================] - 21s 26ms/step - loss: 0.0709 - accuracy: 0.9717\n",
      "Epoch 71/100\n",
      "804/804 [==============================] - 20s 25ms/step - loss: 0.0710 - accuracy: 0.9711\n",
      "Epoch 72/100\n",
      "804/804 [==============================] - 20s 25ms/step - loss: 0.0708 - accuracy: 0.9719\n",
      "Epoch 73/100\n",
      "804/804 [==============================] - 20s 25ms/step - loss: 0.0707 - accuracy: 0.9715\n",
      "Epoch 74/100\n",
      "804/804 [==============================] - 19s 23ms/step - loss: 0.0702 - accuracy: 0.9712\n",
      "Epoch 75/100\n",
      "804/804 [==============================] - 19s 24ms/step - loss: 0.0700 - accuracy: 0.9715\n",
      "Epoch 76/100\n",
      "804/804 [==============================] - 22s 28ms/step - loss: 0.0704 - accuracy: 0.9713\n",
      "Epoch 77/100\n",
      "804/804 [==============================] - 21s 26ms/step - loss: 0.0701 - accuracy: 0.9714\n",
      "Epoch 78/100\n",
      "804/804 [==============================] - 20s 25ms/step - loss: 0.0702 - accuracy: 0.9716\n",
      "Epoch 79/100\n"
     ]
    },
    {
     "name": "stdout",
     "output_type": "stream",
     "text": [
      "804/804 [==============================] - 20s 25ms/step - loss: 0.0699 - accuracy: 0.9715\n",
      "Epoch 80/100\n",
      "804/804 [==============================] - 19s 24ms/step - loss: 0.0696 - accuracy: 0.9720\n",
      "Epoch 81/100\n",
      "804/804 [==============================] - 19s 23ms/step - loss: 0.0696 - accuracy: 0.9718\n",
      "Epoch 82/100\n",
      "804/804 [==============================] - 21s 26ms/step - loss: 0.0695 - accuracy: 0.9716\n",
      "Epoch 83/100\n",
      "804/804 [==============================] - 22s 28ms/step - loss: 0.0694 - accuracy: 0.9720\n",
      "Epoch 84/100\n",
      "804/804 [==============================] - 18s 22ms/step - loss: 0.0691 - accuracy: 0.9719\n",
      "Epoch 85/100\n",
      "804/804 [==============================] - 18s 22ms/step - loss: 0.0689 - accuracy: 0.9721\n",
      "Epoch 86/100\n",
      "804/804 [==============================] - 21s 26ms/step - loss: 0.0701 - accuracy: 0.9715\n",
      "Epoch 87/100\n",
      "804/804 [==============================] - 19s 23ms/step - loss: 0.0686 - accuracy: 0.9724\n",
      "Epoch 88/100\n",
      "804/804 [==============================] - 21s 26ms/step - loss: 0.0686 - accuracy: 0.9721\n",
      "Epoch 89/100\n",
      "804/804 [==============================] - 18s 22ms/step - loss: 0.0688 - accuracy: 0.9725\n",
      "Epoch 90/100\n",
      "804/804 [==============================] - 18s 22ms/step - loss: 0.0685 - accuracy: 0.9722\n",
      "Epoch 91/100\n",
      "804/804 [==============================] - 18s 23ms/step - loss: 0.0685 - accuracy: 0.9717\n",
      "Epoch 92/100\n",
      "804/804 [==============================] - 17s 22ms/step - loss: 0.0685 - accuracy: 0.9726\n",
      "Epoch 93/100\n",
      "804/804 [==============================] - 17s 21ms/step - loss: 0.0683 - accuracy: 0.9719\n",
      "Epoch 94/100\n",
      "804/804 [==============================] - 19s 23ms/step - loss: 0.0689 - accuracy: 0.9716\n",
      "Epoch 95/100\n",
      "804/804 [==============================] - 19s 23ms/step - loss: 0.0683 - accuracy: 0.9727\n",
      "Epoch 96/100\n",
      "804/804 [==============================] - 18s 23ms/step - loss: 0.0681 - accuracy: 0.9721\n",
      "Epoch 97/100\n",
      "804/804 [==============================] - 18s 23ms/step - loss: 0.0689 - accuracy: 0.9719\n",
      "Epoch 98/100\n",
      "804/804 [==============================] - 19s 23ms/step - loss: 0.0687 - accuracy: 0.9725\n",
      "Epoch 99/100\n",
      "804/804 [==============================] - 18s 22ms/step - loss: 0.0679 - accuracy: 0.9724\n",
      "Epoch 100/100\n",
      "804/804 [==============================] - 18s 22ms/step - loss: 0.0681 - accuracy: 0.9722\n"
     ]
    }
   ],
   "source": [
    "# Train the model\n",
    "fit_model = nn.fit(X_train_scaled, y_train, epochs=100)"
   ]
  },
  {
   "cell_type": "code",
   "execution_count": null,
   "metadata": {},
   "outputs": [],
   "source": [
    "# Evaluate the model using the test data\n",
    "model_loss, model_accuracy = nn.evaluate(X_test_scaled,y_test,verbose=2)\n",
    "print(f\"Loss: {model_loss}, Accuracy: {model_accuracy}\")"
   ]
  },
  {
   "cell_type": "code",
   "execution_count": null,
   "metadata": {},
   "outputs": [],
   "source": [
    "# Export our model to HDF5 file\n",
    "nn.save(\"AlphabetSoupCharity.h5\")"
   ]
  },
  {
   "cell_type": "markdown",
   "metadata": {},
   "source": [
    "# Extra - for keeps"
   ]
  },
  {
   "cell_type": "code",
   "execution_count": null,
   "metadata": {},
   "outputs": [],
   "source": [
    "from tensorflow.keras.models import load_model\n",
    "\n",
    "nn_reloaded = load_model('AlphabetSoupCharity.h5')"
   ]
  },
  {
   "cell_type": "code",
   "execution_count": null,
   "metadata": {},
   "outputs": [],
   "source": [
    "model_loss, model_accuracy = nn_reloaded.evaluate(X_test_scaled,y_test,verbose=2)\n",
    "print(f\"Loss: {model_loss}, Accuracy: {model_accuracy}\")"
   ]
  },
  {
   "cell_type": "code",
   "execution_count": null,
   "metadata": {},
   "outputs": [],
   "source": []
  }
 ],
 "metadata": {
  "kernelspec": {
   "display_name": "Python 3 (ipykernel)",
   "language": "python",
   "name": "python3"
  },
  "language_info": {
   "codemirror_mode": {
    "name": "ipython",
    "version": 3
   },
   "file_extension": ".py",
   "mimetype": "text/x-python",
   "name": "python",
   "nbconvert_exporter": "python",
   "pygments_lexer": "ipython3",
   "version": "3.11.9"
  },
  "vscode": {
   "interpreter": {
    "hash": "31f2aee4e71d21fbe5cf8b01ff0e069b9275f58929596ceb00d14d90e3e16cd6"
   }
  }
 },
 "nbformat": 4,
 "nbformat_minor": 4
}
